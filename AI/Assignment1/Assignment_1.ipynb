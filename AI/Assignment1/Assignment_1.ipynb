{
 "cells": [
  {
   "cell_type": "code",
   "execution_count": 1,
   "id": "57088fda-091d-4f4f-abeb-fde5fdfdf27c",
   "metadata": {},
   "outputs": [
    {
     "name": "stdout",
     "output_type": "stream",
     "text": [
      "Welcome to Assignment-1\n"
     ]
    }
   ],
   "source": [
    "print(\"Welcome to Assignment-1\")"
   ]
  },
  {
   "cell_type": "code",
   "execution_count": 3,
   "id": "2367a09c-5cf5-4282-9eb7-e9f5bae7bb0a",
   "metadata": {},
   "outputs": [
    {
     "name": "stdout",
     "output_type": "stream",
     "text": [
      "Nun1=10\n",
      "Nun2=30\n",
      "Add= 40\n"
     ]
    }
   ],
   "source": [
    "print (\"Nun1=10\")\n",
    "print (\"Nun2=30\") \n",
    "Nun1=10\n",
    "Nun2=30\n",
    "Add=Nun1 + Nun2\n",
    "print (\"Add=\",Add)"
   ]
  },
  {
   "cell_type": "code",
   "execution_count": 6,
   "id": "2f0e083a-1d49-4b27-a854-f9da4a5cc131",
   "metadata": {},
   "outputs": [
    {
     "name": "stdin",
     "output_type": "stream",
     "text": [
      "Enter the BMI Index:  40\n"
     ]
    }
   ],
   "source": [
    "BMI = float(input(\"Enter the BMI Index: \"))"
   ]
  },
  {
   "cell_type": "code",
   "execution_count": 7,
   "id": "ad87e88e-dd70-4593-a801-f77922134bda",
   "metadata": {},
   "outputs": [
    {
     "name": "stdout",
     "output_type": "stream",
     "text": [
      "Obese\n"
     ]
    }
   ],
   "source": [
    "if BMI < 18.5:\n",
    "    print(\"Under Weight\")\n",
    "elif 18.5 <= BMI < 25:\n",
    "    print(\"Normal Weight\")\n",
    "elif 25<= BMI <= 30.5:\n",
    "    print(\"OverWeight\")\n",
    "elif 30.6<= BMI <= 35:\n",
    "    print(\"very overweight\")\n",
    "elif 35<= BMI <=40:\n",
    "    print(\"Obese\")\n",
    "else:\n",
    "    print(\"Extremely Obese\")"
   ]
  },
  {
   "cell_type": "code",
   "execution_count": null,
   "id": "4f3bfe4e-1489-49c8-aa37-d30f4d070762",
   "metadata": {},
   "outputs": [],
   "source": []
  }
 ],
 "metadata": {
  "kernelspec": {
   "display_name": "Python 3 (ipykernel)",
   "language": "python",
   "name": "python3"
  },
  "language_info": {
   "codemirror_mode": {
    "name": "ipython",
    "version": 3
   },
   "file_extension": ".py",
   "mimetype": "text/x-python",
   "name": "python",
   "nbconvert_exporter": "python",
   "pygments_lexer": "ipython3",
   "version": "3.12.7"
  }
 },
 "nbformat": 4,
 "nbformat_minor": 5
}
