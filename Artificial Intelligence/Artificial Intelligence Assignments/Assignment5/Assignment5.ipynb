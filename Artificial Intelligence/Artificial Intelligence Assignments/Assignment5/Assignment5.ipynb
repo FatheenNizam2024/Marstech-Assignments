{
 "cells": [
  {
   "cell_type": "code",
   "execution_count": 39,
   "id": "9d68c489-c61b-42ac-a6a2-9c40a5c4f9ec",
   "metadata": {},
   "outputs": [],
   "source": [
    "#Create a class and function, and list out the items in the list\n",
    "class SubfieldsInAI():\n",
    "    def Subfields():\n",
    "        print(\"Sub-fields in AI are:\\nMachine Learning\\nNeural Networks\\nVision\\nRobotics\\nSpeech Processing\\nNatural Language Processing\")\n",
    "        "
   ]
  },
  {
   "cell_type": "code",
   "execution_count": 6,
   "id": "5e2c94f6-94d1-4188-905b-644d27b25daf",
   "metadata": {},
   "outputs": [
    {
     "name": "stdout",
     "output_type": "stream",
     "text": [
      "Sub-fields in AI are:\n",
      "Machine Learning\n",
      "Neural Networks\n",
      "Vision\n",
      "Robotics\n",
      "Speech Processing\n",
      "Natural Language Processing\n"
     ]
    }
   ],
   "source": [
    "SubfieldsInAI.Subfields()"
   ]
  },
  {
   "cell_type": "code",
   "execution_count": 13,
   "id": "1f1f8ab7-fd82-4bd0-aaad-8b47bb588f4f",
   "metadata": {},
   "outputs": [],
   "source": [
    "# Create a function that checks whether the given number is Odd or Even \n",
    "class OddEven():\n",
    "    def OddEven():\n",
    "        Num = int(input(\"Enter a Number:\"))\n",
    "        if(Num%2==0):\n",
    "            print(Num,\"is Even Number\")\n",
    "        else:\n",
    "            print(Num,\"Odd Number\")"
   ]
  },
  {
   "cell_type": "code",
   "execution_count": 14,
   "id": "5ae367b4-8730-428f-a982-d9abce7ff843",
   "metadata": {},
   "outputs": [
    {
     "name": "stdin",
     "output_type": "stream",
     "text": [
      "Enter a Number: 52452\n"
     ]
    },
    {
     "name": "stdout",
     "output_type": "stream",
     "text": [
      "52452 is Even Number\n"
     ]
    }
   ],
   "source": [
    "OddEven.OddEven()"
   ]
  },
  {
   "cell_type": "code",
   "execution_count": 15,
   "id": "4b0eaa43-b231-4a9d-959a-7588603faf16",
   "metadata": {},
   "outputs": [],
   "source": [
    "# Create a function that tells elegibility of marriage for male and female according to their \n",
    "#age limit like 21 for male and in for female\n",
    "class ElegiblityForMarriage():\n",
    "    def Elegible():\n",
    "        Age = int(input(\"Enter your Age:\"))\n",
    "        if(Age>=25):\n",
    "            print(\"Eligible\")\n",
    "        else:\n",
    "            print(\"Not Eligible\")\n",
    "        "
   ]
  },
  {
   "cell_type": "code",
   "execution_count": 16,
   "id": "aadd6c91-de74-4cc0-84cf-e30b1092d65e",
   "metadata": {},
   "outputs": [
    {
     "name": "stdin",
     "output_type": "stream",
     "text": [
      "Enter your Age: 22\n"
     ]
    },
    {
     "name": "stdout",
     "output_type": "stream",
     "text": [
      "Not Eligible\n"
     ]
    }
   ],
   "source": [
    " ElegiblityForMarriage.Elegible()"
   ]
  },
  {
   "cell_type": "code",
   "execution_count": 28,
   "id": "12ae7ad3-2478-4835-9cd0-c3ce34121409",
   "metadata": {},
   "outputs": [],
   "source": [
    "# calculate the percentage of your nth mark\n",
    "class FindPercent():\n",
    "    def percentage():\n",
    "        Sub1 = int(input(\"Subject 1=\"))\n",
    "        Sub2 = int(input(\"Subject 2=\"))\n",
    "        Sub3 = int(input(\"Subject 3=\"))\n",
    "        Sub4 = int(input(\"Subject 4=\"))\n",
    "        Sub5 = int(input(\"Subject 5=\"))\n",
    "        Total = Sub1+Sub2+Sub3+Sub4+Sub5\n",
    "        Percentage = Total/500*100\n",
    "        print(\"Total=\",Total)\n",
    "        print(\"Percentage=\",Percentage)\n",
    "        "
   ]
  },
  {
   "cell_type": "code",
   "execution_count": 29,
   "id": "acc7a9b7-0f9e-429f-9ad7-e3780ba3204c",
   "metadata": {},
   "outputs": [
    {
     "name": "stdin",
     "output_type": "stream",
     "text": [
      "Subject 1= 30\n",
      "Subject 2= 40\n",
      "Subject 3= 10\n",
      "Subject 4= 60\n",
      "Subject 5= 20\n"
     ]
    },
    {
     "name": "stdout",
     "output_type": "stream",
     "text": [
      "Total= 160\n",
      "Percentage= 32.0\n"
     ]
    }
   ],
   "source": [
    "FindPercent.percentage()"
   ]
  },
  {
   "cell_type": "code",
   "execution_count": 38,
   "id": "555064c4-b3aa-46d6-8e3d-556fe16ac49d",
   "metadata": {},
   "outputs": [],
   "source": [
    "# print area and perimeter of triangle using class and functions\n",
    "class triangle():\n",
    "    def triangle():\n",
    "        Height = int(input(\"Height: \"))\n",
    "        Breadth = int(input(\"Breadth: \"))\n",
    "        Area = (Height*Breadth)/2\n",
    "        print(\"Area of Triangle: \",Area)\n",
    "        Height1 = int(input(\"Height1: \"))\n",
    "        Height2 = int(input(\"Height2: \"))\n",
    "        Breadth = int(input(\"Breadth: \"))\n",
    "        Perimeter = Height1+Height2+Breadth\n",
    "        print(\"Perimeter of Triangle\",Perimeter)\n",
    "        "
   ]
  },
  {
   "cell_type": "code",
   "execution_count": 37,
   "id": "be8da87d-0a71-4af2-b457-0d154be481c1",
   "metadata": {},
   "outputs": [
    {
     "name": "stdin",
     "output_type": "stream",
     "text": [
      "Height:  40\n",
      "Breadth:  20\n"
     ]
    },
    {
     "name": "stdout",
     "output_type": "stream",
     "text": [
      "Area of Triangle:  400.0\n"
     ]
    },
    {
     "name": "stdin",
     "output_type": "stream",
     "text": [
      "Height1:  10\n",
      "Height2:  20\n",
      "Breadth:  30\n"
     ]
    },
    {
     "name": "stdout",
     "output_type": "stream",
     "text": [
      "Perimeter of Triangle 60\n"
     ]
    }
   ],
   "source": [
    "triangle.triangle()"
   ]
  },
  {
   "cell_type": "code",
   "execution_count": null,
   "id": "ad754a13-3eb3-4f47-bc94-0ff90af1111c",
   "metadata": {},
   "outputs": [],
   "source": []
  }
 ],
 "metadata": {
  "kernelspec": {
   "display_name": "Python 3 (ipykernel)",
   "language": "python",
   "name": "python3"
  },
  "language_info": {
   "codemirror_mode": {
    "name": "ipython",
    "version": 3
   },
   "file_extension": ".py",
   "mimetype": "text/x-python",
   "name": "python",
   "nbconvert_exporter": "python",
   "pygments_lexer": "ipython3",
   "version": "3.12.6"
  }
 },
 "nbformat": 4,
 "nbformat_minor": 5
}
