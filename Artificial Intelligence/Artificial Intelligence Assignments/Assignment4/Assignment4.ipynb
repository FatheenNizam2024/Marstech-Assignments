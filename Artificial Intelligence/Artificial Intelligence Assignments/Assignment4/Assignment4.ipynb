{
 "cells": [
  {
   "cell_type": "code",
   "execution_count": 2,
   "id": "a3b9a61b-47ff-4a9b-9ea6-467f683ccbf8",
   "metadata": {},
   "outputs": [
    {
     "name": "stdout",
     "output_type": "stream",
     "text": [
      "value: 10\n",
      "Correct\n"
     ]
    }
   ],
   "source": [
    "i = 10\n",
    "\n",
    "if i == 10:\n",
    "    print(\"value:\",i)\n",
    "    print(\"Correct\")"
   ]
  },
  {
   "cell_type": "code",
   "execution_count": 31,
   "id": "8e582318-6114-430c-aa82-3dd97bcf8173",
   "metadata": {},
   "outputs": [
    {
     "name": "stdin",
     "output_type": "stream",
     "text": [
      "Enter the password: marstech@123\n"
     ]
    },
    {
     "name": "stdout",
     "output_type": "stream",
     "text": [
      "your password is correct\n"
     ]
    }
   ],
   "source": [
    "password = \"marstech@123\"\n",
    "enter=input(\"Enter the password:\")\n",
    "\n",
    "if enter == password:\n",
    "    print(\"your password is correct\")\n",
    "else:\n",
    "    print(\"Incorrect\")"
   ]
  },
  {
   "cell_type": "code",
   "execution_count": 43,
   "id": "72774453-e5d0-4a6b-a49c-004d26e30f3e",
   "metadata": {},
   "outputs": [
    {
     "name": "stdin",
     "output_type": "stream",
     "text": [
      "Age: 61\n"
     ]
    }
   ],
   "source": [
    "Age = int(input(\"Age:\"))"
   ]
  },
  {
   "cell_type": "code",
   "execution_count": 44,
   "id": "971045b5-76bf-42c4-a1d2-df0ca7bfe367",
   "metadata": {},
   "outputs": [
    {
     "name": "stdout",
     "output_type": "stream",
     "text": [
      "senior citizen\n"
     ]
    }
   ],
   "source": [
    "if Age <=15:\n",
    "    print(\"Children\")\n",
    "elif 16 < Age <= 20:\n",
    "    print(\"Adult\")\n",
    "elif 21 < Age <= 60:\n",
    "    print(\"citizen\")\n",
    "else:\n",
    "    print(\"senior citizen\")\n",
    "    "
   ]
  },
  {
   "cell_type": "code",
   "execution_count": 47,
   "id": "17de9298-6992-4b8e-958b-ee70c2300304",
   "metadata": {},
   "outputs": [
    {
     "name": "stdin",
     "output_type": "stream",
     "text": [
      "Enter any number: -1\n"
     ]
    }
   ],
   "source": [
    "Num = int(input(\"Enter any number:\"))"
   ]
  },
  {
   "cell_type": "code",
   "execution_count": 48,
   "id": "f881ac62-c572-4ef4-9666-362dfa48df3a",
   "metadata": {},
   "outputs": [
    {
     "name": "stdout",
     "output_type": "stream",
     "text": [
      "No. is Negative\n"
     ]
    }
   ],
   "source": [
    "if Num >=0:\n",
    "    print(\"No. is positive\")\n",
    "else:\n",
    "    print(\"No. is Negative\")\n",
    "    "
   ]
  },
  {
   "cell_type": "code",
   "execution_count": 55,
   "id": "9d7a6bc5-2ba7-400e-a1c8-6b0e95226905",
   "metadata": {},
   "outputs": [
    {
     "name": "stdin",
     "output_type": "stream",
     "text": [
      "Enter any number to check: 22\n"
     ]
    }
   ],
   "source": [
    "Num = int(input(\"Enter any number to check:\"))"
   ]
  },
  {
   "cell_type": "code",
   "execution_count": 56,
   "id": "8fd5b263-5f1c-4011-8009-527d9e0d7581",
   "metadata": {},
   "outputs": [
    {
     "name": "stdout",
     "output_type": "stream",
     "text": [
      "No is not divisible by 5\n"
     ]
    }
   ],
   "source": [
    "if Num % 5 != 0:\n",
    "    print(\"No is not divisible by 5\" )\n",
    "else:\n",
    "    print(\"No is divisible by 5\")"
   ]
  },
  {
   "cell_type": "code",
   "execution_count": null,
   "id": "ea9924d9-e610-48fa-9746-83c98a520e99",
   "metadata": {},
   "outputs": [],
   "source": []
  }
 ],
 "metadata": {
  "kernelspec": {
   "display_name": "Python 3 (ipykernel)",
   "language": "python",
   "name": "python3"
  },
  "language_info": {
   "codemirror_mode": {
    "name": "ipython",
    "version": 3
   },
   "file_extension": ".py",
   "mimetype": "text/x-python",
   "name": "python",
   "nbconvert_exporter": "python",
   "pygments_lexer": "ipython3",
   "version": "3.12.7"
  }
 },
 "nbformat": 4,
 "nbformat_minor": 5
}
