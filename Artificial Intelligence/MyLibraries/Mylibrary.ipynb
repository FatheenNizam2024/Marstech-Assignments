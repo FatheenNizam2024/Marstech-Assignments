{
 "cells": [
  {
   "cell_type": "code",
   "execution_count": 1,
   "id": "9bc8eb6b-f8f0-4db5-a238-604ab7436499",
   "metadata": {},
   "outputs": [],
   "source": [
    "from myfunct import myfunction"
   ]
  },
  {
   "cell_type": "code",
   "execution_count": 2,
   "id": "88c73506-0a71-4e9e-b74d-a3e1ef490239",
   "metadata": {},
   "outputs": [
    {
     "name": "stdin",
     "output_type": "stream",
     "text": [
      "Enter your Age: 60\n"
     ]
    },
    {
     "name": "stdout",
     "output_type": "stream",
     "text": [
      "Eligible\n"
     ]
    }
   ],
   "source": [
    "myfunction.Elegible()"
   ]
  },
  {
   "cell_type": "code",
   "execution_count": 3,
   "id": "7084912f-440e-44f3-92c2-8f72bd7b617c",
   "metadata": {},
   "outputs": [
    {
     "name": "stdin",
     "output_type": "stream",
     "text": [
      "Subject 1= 20\n",
      "Subject 2= 30\n",
      "Subject 3= 40\n",
      "Subject 4= 50\n",
      "Subject 5= 70\n"
     ]
    },
    {
     "name": "stdout",
     "output_type": "stream",
     "text": [
      "Total= 210\n",
      "Percentage= 42.0\n"
     ]
    }
   ],
   "source": [
    "myfunction.percentage()"
   ]
  },
  {
   "cell_type": "code",
   "execution_count": 4,
   "id": "ff951c53-1314-4aa6-9919-2ffb234d1782",
   "metadata": {},
   "outputs": [
    {
     "name": "stdin",
     "output_type": "stream",
     "text": [
      "Enter a Number: 20\n"
     ]
    },
    {
     "name": "stdout",
     "output_type": "stream",
     "text": [
      "20 is Even Number\n"
     ]
    }
   ],
   "source": [
    "myfunction.OddEven()"
   ]
  },
  {
   "cell_type": "code",
   "execution_count": null,
   "id": "b4a18d4d-f51a-42a4-9914-259cf3e0dc22",
   "metadata": {},
   "outputs": [],
   "source": []
  }
 ],
 "metadata": {
  "kernelspec": {
   "display_name": "Python 3 (ipykernel)",
   "language": "python",
   "name": "python3"
  },
  "language_info": {
   "codemirror_mode": {
    "name": "ipython",
    "version": 3
   },
   "file_extension": ".py",
   "mimetype": "text/x-python",
   "name": "python",
   "nbconvert_exporter": "python",
   "pygments_lexer": "ipython3",
   "version": "3.12.6"
  }
 },
 "nbformat": 4,
 "nbformat_minor": 5
}
