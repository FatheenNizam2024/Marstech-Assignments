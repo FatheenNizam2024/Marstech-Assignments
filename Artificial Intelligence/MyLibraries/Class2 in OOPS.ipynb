{
 "cells": [
  {
   "cell_type": "code",
   "execution_count": 1,
   "id": "815c6f29-24d0-4766-8409-35b8aa45d89c",
   "metadata": {},
   "outputs": [],
   "source": [
    "from multifunct import multifunction\n",
    "# from filename import classname"
   ]
  },
  {
   "cell_type": "code",
   "execution_count": 2,
   "id": "6e63b992-cd63-4d49-9f47-84f943a77fc8",
   "metadata": {},
   "outputs": [
    {
     "name": "stdin",
     "output_type": "stream",
     "text": [
      "Enter the number:  22\n"
     ]
    },
    {
     "name": "stdout",
     "output_type": "stream",
     "text": [
      "Even Number\n"
     ]
    }
   ],
   "source": [
    "multifunction.ODDEVEN()"
   ]
  },
  {
   "cell_type": "code",
   "execution_count": 4,
   "id": "71427d22-fe96-473c-81c8-feb1bb195fef",
   "metadata": {},
   "outputs": [
    {
     "name": "stdin",
     "output_type": "stream",
     "text": [
      "Enter the BMI index: 33.3\n"
     ]
    },
    {
     "name": "stdout",
     "output_type": "stream",
     "text": [
      "very overweight\n"
     ]
    }
   ],
   "source": [
    "multifunction.BMIFUN()"
   ]
  },
  {
   "cell_type": "code",
   "execution_count": null,
   "id": "2bae2fa9-d49d-4e3b-ad26-a4d79480c3c1",
   "metadata": {},
   "outputs": [],
   "source": []
  }
 ],
 "metadata": {
  "kernelspec": {
   "display_name": "Python 3 (ipykernel)",
   "language": "python",
   "name": "python3"
  },
  "language_info": {
   "codemirror_mode": {
    "name": "ipython",
    "version": 3
   },
   "file_extension": ".py",
   "mimetype": "text/x-python",
   "name": "python",
   "nbconvert_exporter": "python",
   "pygments_lexer": "ipython3",
   "version": "3.12.6"
  }
 },
 "nbformat": 4,
 "nbformat_minor": 5
}
