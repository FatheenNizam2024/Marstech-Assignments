{
 "cells": [
  {
   "cell_type": "code",
   "execution_count": 4,
   "id": "59f79950-626b-46b3-a03e-76d170248a36",
   "metadata": {},
   "outputs": [
    {
     "name": "stdout",
     "output_type": "stream",
     "text": [
      "0\n",
      "1\n",
      "2\n",
      "3\n",
      "4\n",
      "5\n",
      "6\n",
      "7\n",
      "8\n",
      "9\n",
      "10\n",
      "11\n",
      "12\n",
      "13\n",
      "14\n",
      "15\n",
      "16\n",
      "17\n",
      "18\n",
      "19\n"
     ]
    }
   ],
   "source": [
    "for i in range(20):\n",
    "    print(i)"
   ]
  },
  {
   "cell_type": "code",
   "execution_count": 11,
   "id": "00bbc5c5-fec7-4fe5-987d-4d88ec374161",
   "metadata": {},
   "outputs": [
    {
     "name": "stdout",
     "output_type": "stream",
     "text": [
      "10 11 12 13 14 15 16 17 18 19 "
     ]
    }
   ],
   "source": [
    "for i in range(10, 20):\n",
    "    print(i, end =' ')"
   ]
  },
  {
   "cell_type": "code",
   "execution_count": 20,
   "id": "4a252171-bc99-4eae-9ed5-0fa4c82ba814",
   "metadata": {},
   "outputs": [],
   "source": [
    "list2=[10,20,14,55,43,87,76]"
   ]
  },
  {
   "cell_type": "code",
   "execution_count": 21,
   "id": "93a84dba-6002-4439-a3e7-b3e6c597ae32",
   "metadata": {},
   "outputs": [
    {
     "name": "stdout",
     "output_type": "stream",
     "text": [
      "Number of item in the List2:\n",
      " 7\n"
     ]
    }
   ],
   "source": [
    "print(\"Number of item in the List2:\\n\",len(list2))"
   ]
  },
  {
   "cell_type": "code",
   "execution_count": 50,
   "id": "2279be9b-d482-444b-8d89-46ad7f76e385",
   "metadata": {},
   "outputs": [
    {
     "name": "stdout",
     "output_type": "stream",
     "text": [
      "Artificial Intelligence\n",
      "A\n",
      "r\n",
      "t\n",
      "i\n",
      "f\n",
      "i\n",
      "c\n",
      "i\n",
      "a\n",
      "l\n",
      " \n",
      "I\n",
      "n\n",
      "t\n",
      "e\n",
      "l\n",
      "l\n",
      "i\n",
      "g\n",
      "e\n",
      "n\n",
      "c\n",
      "e\n"
     ]
    }
   ],
   "source": [
    " print(\"Artificial Intelligence\")\n",
    "text = \"Artificial Intelligence\"\n",
    "for char in text:\n",
    "    print(char)"
   ]
  },
  {
   "cell_type": "code",
   "execution_count": 53,
   "id": "2fa073b8-e67d-44e9-907a-d42d437d1be6",
   "metadata": {},
   "outputs": [
    {
     "name": "stdout",
     "output_type": "stream",
     "text": [
      "-Your Name-\n",
      "-Your Age-\n",
      "-Your Profession-\n"
     ]
    }
   ],
   "source": [
    "print(\"-Your Name-\\n-Your Age-\\n-Your Profession-\")"
   ]
  },
  {
   "cell_type": "code",
   "execution_count": 55,
   "id": "a621906a-e444-4609-baae-f5489130a4d7",
   "metadata": {},
   "outputs": [
    {
     "name": "stdout",
     "output_type": "stream",
     "text": [
      "(1, 'Welcome', 2, 'mars tech')\n"
     ]
    }
   ],
   "source": [
    "mixed_tuple = (1,'Welcome',2,'mars tech')\n",
    "print(mixed_tuple)"
   ]
  },
  {
   "cell_type": "code",
   "execution_count": 57,
   "id": "f17babdd-63be-4b70-a7f6-bfae75df0981",
   "metadata": {},
   "outputs": [
    {
     "name": "stdout",
     "output_type": "stream",
     "text": [
      "((0, 1, 2, 3), ('python', 'mars tech'))\n"
     ]
    }
   ],
   "source": [
    "tuple = (0,1,2,3),('python','mars tech')\n",
    "print(tuple)"
   ]
  },
  {
   "cell_type": "code",
   "execution_count": 61,
   "id": "ca1fecf1-2602-4418-bdd1-c1a006c18aa1",
   "metadata": {},
   "outputs": [
    {
     "name": "stdout",
     "output_type": "stream",
     "text": [
      "19\n",
      "25\n",
      "1\n"
     ]
    }
   ],
   "source": [
    "list = [20,10,16,19,25,1,276,188]\n",
    "for odd in list:\n",
    "    if odd % 2 != 0:\n",
    "        print(odd)"
   ]
  },
  {
   "cell_type": "code",
   "execution_count": 65,
   "id": "8946f30a-4b8d-4b71-81e1-68e3faf99484",
   "metadata": {},
   "outputs": [
    {
     "name": "stdout",
     "output_type": "stream",
     "text": [
      "20\n",
      "10\n",
      "16\n",
      "276\n",
      "188\n"
     ]
    }
   ],
   "source": [
    "list=[20,10,16,19,25,1,276,188]\n",
    "for even in list:\n",
    "    if even % 2 == 0:\n",
    "        print(even)"
   ]
  },
  {
   "cell_type": "code",
   "execution_count": null,
   "id": "ad73c2ac-757f-4c01-b540-ac65b3b0b1d7",
   "metadata": {},
   "outputs": [],
   "source": []
  }
 ],
 "metadata": {
  "kernelspec": {
   "display_name": "Python 3 (ipykernel)",
   "language": "python",
   "name": "python3"
  },
  "language_info": {
   "codemirror_mode": {
    "name": "ipython",
    "version": 3
   },
   "file_extension": ".py",
   "mimetype": "text/x-python",
   "name": "python",
   "nbconvert_exporter": "python",
   "pygments_lexer": "ipython3",
   "version": "3.12.7"
  }
 },
 "nbformat": 4,
 "nbformat_minor": 5
}
