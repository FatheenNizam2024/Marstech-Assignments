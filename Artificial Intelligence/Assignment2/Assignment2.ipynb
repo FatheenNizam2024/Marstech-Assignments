{
 "cells": [
  {
   "cell_type": "code",
   "execution_count": 2,
   "id": "53811d97-9c71-40a3-bfcf-3f2be30eeccf",
   "metadata": {},
   "outputs": [
    {
     "name": "stdout",
     "output_type": "stream",
     "text": [
      "Mars Tech\n"
     ]
    }
   ],
   "source": [
    "print(\"Mars Tech\")"
   ]
  },
  {
   "cell_type": "code",
   "execution_count": 6,
   "id": "9fe32b7d-2a34-4dc8-9419-9afc5059a30e",
   "metadata": {},
   "outputs": [
    {
     "name": "stdin",
     "output_type": "stream",
     "text": [
      "Enter your institute name? : Mars Tech\n"
     ]
    }
   ],
   "source": [
    "name = input(\"Enter your institute name? :\")"
   ]
  },
  {
   "cell_type": "code",
   "execution_count": 7,
   "id": "02255c53-394d-4c98-a340-723a1bf26cd7",
   "metadata": {},
   "outputs": [
    {
     "name": "stdin",
     "output_type": "stream",
     "text": [
      "Enter your name:  Raj\n",
      "Enter your age:  15\n",
      "Enter your school name:  Guru school\n",
      "Enter your degree:  B.E CSE\n"
     ]
    }
   ],
   "source": [
    "name = input(\"Enter your name: \")\n",
    "age = input(\"Enter your age: \")\n",
    "school = input(\"Enter your school name: \")\n",
    "degree = input(\"Enter your degree: \")"
   ]
  },
  {
   "cell_type": "code",
   "execution_count": 13,
   "id": "a74d93a6-45c7-435d-903a-7239df6cf8a2",
   "metadata": {},
   "outputs": [
    {
     "name": "stdout",
     "output_type": "stream",
     "text": [
      "a = 43\n",
      "b = 34\n",
      "\n",
      "add = 77\n"
     ]
    }
   ],
   "source": [
    "print(\"a = 43\")\n",
    "a = 43\n",
    "print(\"b = 34\\n\")\n",
    "b = 34\n",
    "add = a + b\n",
    "print(\"add =\",add)"
   ]
  },
  {
   "cell_type": "code",
   "execution_count": 15,
   "id": "48813686-8ca4-4f17-9a5e-63b6b1ea69c7",
   "metadata": {},
   "outputs": [
    {
     "name": "stdout",
     "output_type": "stream",
     "text": [
      "a = 43\n",
      "b = 34\n",
      "\n",
      "sub = 9\n"
     ]
    }
   ],
   "source": [
    "print(\"a = 43\")\n",
    "a = 43\n",
    "print(\"b = 34\\n\")\n",
    "b = 34\n",
    "sub = a - b\n",
    "print(\"sub =\",sub)"
   ]
  },
  {
   "cell_type": "code",
   "execution_count": 16,
   "id": "88456c6e-fd12-401c-9774-92ff48165f7f",
   "metadata": {},
   "outputs": [
    {
     "name": "stdout",
     "output_type": "stream",
     "text": [
      "a = 63\n",
      "b = 97\n",
      "\n",
      "Mul = 6111\n"
     ]
    }
   ],
   "source": [
    "print(\"a = 63\")\n",
    "a = 63\n",
    "print(\"b = 97\\n\")\n",
    "b = 97\n",
    "Mul = a * b\n",
    "print(\"Mul =\",Mul)"
   ]
  },
  {
   "cell_type": "code",
   "execution_count": 19,
   "id": "63aaae52-9401-4976-b350-84355334cb91",
   "metadata": {},
   "outputs": [
    {
     "name": "stdout",
     "output_type": "stream",
     "text": [
      "a = 76\n",
      "b = 31\n",
      "\n",
      "Float Div = 2.4516129032258065\n"
     ]
    }
   ],
   "source": [
    "print(\"a = 76\")\n",
    "a = 76\n",
    "print(\"b = 31\\n\")\n",
    "b = 31\n",
    "Float_Div = a / b\n",
    "print(\"Float Div =\",Float_Div)"
   ]
  },
  {
   "cell_type": "code",
   "execution_count": 21,
   "id": "a00d994d-9df8-40be-907b-d9b8f05ddae9",
   "metadata": {},
   "outputs": [
    {
     "name": "stdout",
     "output_type": "stream",
     "text": [
      "a = 76\n",
      "b = 31\n",
      "\n",
      "Floor Div = 2\n"
     ]
    }
   ],
   "source": [
    "print(\"a = 76\")\n",
    "a = 76\n",
    "print(\"b = 31\\n\")\n",
    "b = 31\n",
    "Floor_Div = a // b\n",
    "print(\"Floor Div =\",Floor_Div)"
   ]
  },
  {
   "cell_type": "code",
   "execution_count": 22,
   "id": "94d321a4-3a5e-464d-bd25-7d52965454e8",
   "metadata": {},
   "outputs": [
    {
     "name": "stdout",
     "output_type": "stream",
     "text": [
      "a = 76\n",
      "b = 31\n",
      "\n",
      "Float Div = 14\n"
     ]
    }
   ],
   "source": [
    "print(\"a = 76\")\n",
    "a = 76\n",
    "print(\"b = 31\\n\")\n",
    "b = 31\n",
    "Modulo = a % b\n",
    "print(\"Float Div =\",Modulo)"
   ]
  },
  {
   "cell_type": "code",
   "execution_count": 24,
   "id": "34be5b11-58f2-4aeb-b822-794f3c9affd8",
   "metadata": {},
   "outputs": [
    {
     "name": "stdout",
     "output_type": "stream",
     "text": [
      "a = 4\n",
      "b = 4\n",
      "\n",
      "Power = 256\n"
     ]
    }
   ],
   "source": [
    "print(\"a = 4\")\n",
    "a = 4\n",
    "print(\"b = 4\\n\")\n",
    "b = 4\n",
    "Power = a ** b\n",
    "print(\"Power =\",Power)"
   ]
  },
  {
   "cell_type": "code",
   "execution_count": null,
   "id": "d16688b7-0054-4c84-a4bf-6ab67caad229",
   "metadata": {},
   "outputs": [],
   "source": []
  }
 ],
 "metadata": {
  "kernelspec": {
   "display_name": "Python 3 (ipykernel)",
   "language": "python",
   "name": "python3"
  },
  "language_info": {
   "codemirror_mode": {
    "name": "ipython",
    "version": 3
   },
   "file_extension": ".py",
   "mimetype": "text/x-python",
   "name": "python",
   "nbconvert_exporter": "python",
   "pygments_lexer": "ipython3",
   "version": "3.12.7"
  }
 },
 "nbformat": 4,
 "nbformat_minor": 5
}
